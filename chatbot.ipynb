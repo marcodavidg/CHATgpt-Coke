{
 "cells": [
  {
   "cell_type": "markdown",
   "id": "290928ee-7a99-4109-b8cb-6b0540040d33",
   "metadata": {},
   "source": [
    "# Import libraries"
   ]
  },
  {
   "cell_type": "code",
   "execution_count": 1,
   "id": "57a14068-fcdc-4c16-a90b-6fc2758de463",
   "metadata": {},
   "outputs": [],
   "source": [
    "#!pip install os\n",
    "#!pip install openai"
   ]
  },
  {
   "cell_type": "code",
   "execution_count": 2,
   "id": "c7ba1dda-bfd2-40f4-b68a-1d205fea0ac8",
   "metadata": {},
   "outputs": [],
   "source": [
    "import os\n",
    "from openai import OpenAI"
   ]
  },
  {
   "cell_type": "markdown",
   "id": "185fbabf-a0d8-4b31-a965-0e078d44d8e9",
   "metadata": {},
   "source": [
    "# Add API Key and create client variable"
   ]
  },
  {
   "cell_type": "code",
   "execution_count": null,
   "id": "bfbffeb2-95ce-4e25-ac74-38d720a6a934",
   "metadata": {},
   "outputs": [],
   "source": [
    "os.environ['API_KEY'] = 'INSERT KEY HERE'\n",
    "# os.environ['API_KEY'] = ''\n",
    "\n",
    "client = OpenAI(\n",
    "    # This is the default and can be omitted\n",
    "    api_key=os.getenv('API_KEY'),\n",
    ")\n",
    "\n",
    "print(client.api_key)"
   ]
  },
  {
   "cell_type": "markdown",
   "id": "41a03ee1-25b3-4d3d-a2d3-acf5c3259846",
   "metadata": {},
   "source": [
    "### Get sample responses to check whether it works ok"
   ]
  },
  {
   "cell_type": "code",
   "execution_count": 4,
   "id": "e500375d-00c2-4163-b3c1-bf51efc400dd",
   "metadata": {},
   "outputs": [],
   "source": [
    "response = client.chat.completions.create(\n",
    "    max_tokens=50,\n",
    "    messages=[\n",
    "        {\n",
    "            \"role\": \"user\",\n",
    "            \"content\": \"Once upon a time\",\n",
    "        }\n",
    "    ],\n",
    "    model=\"gpt-3.5-turbo\",\n",
    ")"
   ]
  },
  {
   "cell_type": "code",
   "execution_count": 5,
   "id": "7a758483-ae6a-4fc5-8931-79658b480c58",
   "metadata": {},
   "outputs": [
    {
     "name": "stdout",
     "output_type": "stream",
     "text": [
      "ChatCompletion(id='chatcmpl-8zoaTPOzHeTJplAL053LU9AzRezWO', choices=[Choice(finish_reason='length', index=0, logprobs=None, message=ChatCompletionMessage(content=', in a small village nestled among the mountains, there lived a young girl named Lily. Lily was known throughout the village for her kind heart and adventurous spirit. She spent her days exploring the forests and meadows that surrounded her home, always on the', role='assistant', function_call=None, tool_calls=None))], created=1709743157, model='gpt-3.5-turbo-0125', object='chat.completion', system_fingerprint='fp_b9d4cef803', usage=CompletionUsage(completion_tokens=50, prompt_tokens=11, total_tokens=61))\n",
      ", in a small village nestled among the mountains, there lived a young girl named Lily. Lily was known throughout the village for her kind heart and adventurous spirit. She spent her days exploring the forests and meadows that surrounded her home, always on the\n"
     ]
    }
   ],
   "source": [
    "print(response)\n",
    "print(response.choices[0].message.content)"
   ]
  },
  {
   "cell_type": "code",
   "execution_count": 6,
   "id": "99b355eb-1df2-4ab8-adea-bbeac19be7bd",
   "metadata": {},
   "outputs": [],
   "source": [
    "prompt = \"What are your opening hours of the zoo?\""
   ]
  },
  {
   "cell_type": "code",
   "execution_count": 7,
   "id": "3e4f4d85-c106-4f13-81f7-95bffd3c53d4",
   "metadata": {},
   "outputs": [],
   "source": [
    "response = client.chat.completions.create(\n",
    "    max_tokens=50,\n",
    "    messages=[\n",
    "        {\n",
    "            \"role\": \"user\",\n",
    "            \"content\": prompt,\n",
    "        }\n",
    "    ],\n",
    "    model=\"gpt-3.5-turbo\",\n",
    ")"
   ]
  },
  {
   "cell_type": "code",
   "execution_count": 8,
   "id": "a0d4c637-0b88-4063-97f3-ea59488000c0",
   "metadata": {},
   "outputs": [
    {
     "name": "stdout",
     "output_type": "stream",
     "text": [
      "Model: gpt-3.5-turbo-0125\n",
      "Created: 1709743210\n",
      "ID: chatcmpl-8zobK0R78HVj9gGUBEAClzkPRv2ID\n"
     ]
    }
   ],
   "source": [
    "print(f'Model: {response.model}')\n",
    "print(f'Created: {response.created}')\n",
    "print(f'ID: {response.id}')"
   ]
  },
  {
   "cell_type": "code",
   "execution_count": 9,
   "id": "0cd5026a-e398-415a-a60d-8ca8dee39387",
   "metadata": {},
   "outputs": [
    {
     "name": "stdout",
     "output_type": "stream",
     "text": [
      "I apologize for the inconvenience, but as a language model AI, I do not have real-time information. I recommend checking the zoo's official website or contacting them directly to inquire about their opening hours.\n"
     ]
    }
   ],
   "source": [
    "print(response.choices[0].message.content.strip())"
   ]
  },
  {
   "cell_type": "markdown",
   "id": "971b2f3d-787f-4e1d-b8eb-478fa695b282",
   "metadata": {},
   "source": [
    "# Roles\n",
    "There are three important roles.\n",
    "- User. This one is the human user that interacts with the Chatbot.\n",
    "- System. Sets the behavior of the assistant at the beginning. Sets like a brief for the engine.\n",
    "- Assistant. This is the role that replies to the prompts. We can also use it to feed info to itself.\n"
   ]
  },
  {
   "cell_type": "code",
   "execution_count": 10,
   "id": "eaa250b1-e2bd-492b-aa27-6230f45a2d59",
   "metadata": {},
   "outputs": [],
   "source": [
    "messages = [\n",
    "    {\n",
    "        \"role\": \"system\",\n",
    "        \"content\": \"You are a helpful assistant that speaks in Spanish.\"\n",
    "    },\n",
    "    {\n",
    "        \"role\": \"user\",\n",
    "        \"content\": \"Who won the last World Cup in Brazil?\"\n",
    "    },\n",
    "    {\n",
    "        \"role\": \"assistant\",\n",
    "        \"content\": \"You will always start the conversation with a colloquial Spanish greeting.\"\n",
    "    }\n",
    "]"
   ]
  },
  {
   "cell_type": "code",
   "execution_count": 11,
   "id": "af73460d-f893-486d-936e-eb6ff3b5fd5f",
   "metadata": {},
   "outputs": [],
   "source": [
    "response = client.chat.completions.create(\n",
    "    messages=messages,\n",
    "    model=\"gpt-3.5-turbo\",\n",
    ")"
   ]
  },
  {
   "cell_type": "code",
   "execution_count": 12,
   "id": "a115e77d-6fee-4f1a-b540-2f5513b23a84",
   "metadata": {},
   "outputs": [
    {
     "name": "stdout",
     "output_type": "stream",
     "text": [
      "¡Hola! El último Mundial de la FIFA se celebró en Brasil en 2014 y fue ganado por Alemania. ¿Hay algo más en lo que pueda ayudarte?\n"
     ]
    }
   ],
   "source": [
    "# print(response)\n",
    "print(response.choices[0].message.content.strip())"
   ]
  },
  {
   "cell_type": "markdown",
   "id": "90b99b36-f042-4e15-8149-10fd46e571e1",
   "metadata": {},
   "source": [
    "# Configure assistant for Coca Cola Museum"
   ]
  },
  {
   "cell_type": "code",
   "execution_count": 13,
   "id": "4cd750c6-3abe-4b42-a1dd-e7244c7067af",
   "metadata": {},
   "outputs": [],
   "source": [
    "messages = [\n",
    "    {\n",
    "        \"role\": \"system\",\n",
    "        \"content\": \"You are a helpful assistant for a Coca Cola museum. \\n\"\n",
    "                    \"You have detailed knowledge about the company's history, products, items in the store, entry fee and the opening and closing times of the place. You also have inside knowledge of the museum's service.\"\n",
    "    },\n",
    "    {\n",
    "        \"role\": \"user\",\n",
    "        \"content\": \"How much is one notebook in the souvenir store? And can I go on Sundays at 5am?\"\n",
    "    }\n",
    "]"
   ]
  },
  {
   "cell_type": "code",
   "execution_count": 14,
   "id": "23bfb6af-4e60-4f6c-9e17-43b5cb03b4b0",
   "metadata": {},
   "outputs": [],
   "source": [
    "response = client.chat.completions.create(\n",
    "    messages=messages,\n",
    "    model=\"gpt-3.5-turbo\",\n",
    ")"
   ]
  },
  {
   "cell_type": "code",
   "execution_count": 15,
   "id": "0cc6a9f9-ed8f-486a-8fdf-f44cbc7495a1",
   "metadata": {},
   "outputs": [
    {
     "name": "stdout",
     "output_type": "stream",
     "text": [
      "Hello! A Coca Cola notebook in the souvenir store typically costs $10. You can visit the museum on Sundays, but please note that the museum opens at 9am. Unfortunately, you won't be able to visit at 5am on Sundays as the museum will still be closed at that time. The opening hours on Sundays are usually from 9am to 5pm. If you have any more questions or need further information, feel free to ask!\n"
     ]
    }
   ],
   "source": [
    "print(response.choices[0].message.content)"
   ]
  },
  {
   "cell_type": "markdown",
   "id": "0c9bf1a1-478d-413e-908f-7f8d0fc4f5c7",
   "metadata": {},
   "source": [
    "### Create context for a fluent conversation"
   ]
  },
  {
   "cell_type": "code",
   "execution_count": 16,
   "id": "824693b1-8a2b-43f9-9288-39716a6d3a6e",
   "metadata": {},
   "outputs": [],
   "source": [
    "messages.append(\n",
    "    {\n",
    "        \"role\": \"assistant\",\n",
    "        \"content\": response.choices[0].message.content\n",
    "    }\n",
    ")"
   ]
  },
  {
   "cell_type": "code",
   "execution_count": 17,
   "id": "f4083046-3c5a-415a-b8d3-1ad56f562983",
   "metadata": {},
   "outputs": [],
   "source": [
    "messages.append(\n",
    "    {\n",
    "        \"role\": \"user\",\n",
    "        \"content\": \"How about on Monday?\"\n",
    "    }\n",
    ")"
   ]
  },
  {
   "cell_type": "code",
   "execution_count": 18,
   "id": "4fe2cce8-3604-40a1-9ef7-034624bd5974",
   "metadata": {},
   "outputs": [],
   "source": [
    "response = client.chat.completions.create(\n",
    "    messages=messages,\n",
    "    model=\"gpt-3.5-turbo\",\n",
    ")"
   ]
  },
  {
   "cell_type": "code",
   "execution_count": 19,
   "id": "16cf3c0e-a411-4fc1-882b-4278ef8cf4f6",
   "metadata": {},
   "outputs": [
    {
     "name": "stdout",
     "output_type": "stream",
     "text": [
      "The Coca Cola museum is typically open from Monday to Saturday from 9am to 5pm. So, yes, you can visit the museum on a Monday during those hours. If you have any other questions or need more information, please don't hesitate to ask!\n"
     ]
    }
   ],
   "source": [
    "print(response.choices[0].message.content)"
   ]
  },
  {
   "cell_type": "markdown",
   "id": "7b6c3330-97fc-41ac-a04c-43dec0d654af",
   "metadata": {},
   "source": [
    "### Experiment with temperature\n",
    "This changes the randomness of the output."
   ]
  },
  {
   "cell_type": "code",
   "execution_count": 20,
   "id": "a1fbe0c6-ec7e-494d-b991-6d451ec943ff",
   "metadata": {},
   "outputs": [],
   "source": [
    "# High temperature\n",
    "high_response = client.chat.completions.create(\n",
    "    messages=messages,\n",
    "    model=\"gpt-3.5-turbo\",\n",
    "    temperature=1.6,\n",
    "    max_tokens=100\n",
    ")\n",
    "\n",
    "# Low temperature\n",
    "low_response = client.chat.completions.create(\n",
    "    messages=messages,\n",
    "    model=\"gpt-3.5-turbo\",\n",
    "    temperature=0,\n",
    "    max_tokens=100\n",
    ")"
   ]
  },
  {
   "cell_type": "code",
   "execution_count": 21,
   "id": "0b427224-cdb0-4c18-9735-2923dd69108f",
   "metadata": {
    "scrolled": true
   },
   "outputs": [
    {
     "name": "stdout",
     "output_type": "stream",
     "text": [
      "High temperature: On Mondays, the Coca Cola museum is usually open from 9am to 5pm, with the last entry at 4pm. This schedule could be subject to change on holidays or special occasions, so it's always a good idea to confirm the hours beforehand. If you have any more questions or if there's anything else you'd like to know, feel free to ask!\n",
      "Low temperature: On Mondays, the Coca Cola museum is typically open from 9am to 5pm as well. So, you can plan your visit between those hours on a Monday. If you have any other questions or need more details, feel free to ask!\n"
     ]
    }
   ],
   "source": [
    "print(\"High temperature:\", high_response.choices[0].message.content)\n",
    "print(\"Low temperature:\", low_response.choices[0].message.content)"
   ]
  },
  {
   "cell_type": "markdown",
   "id": "e85520a2-f1a7-40a6-af09-8c44a696efc0",
   "metadata": {},
   "source": [
    "### Checking and printing errors, like model's max_tokens exceeded\n",
    "More errors can be found in https://help.openai.com/en/articles/6897213-openai-library-error-types-guidance "
   ]
  },
  {
   "cell_type": "code",
   "execution_count": 24,
   "id": "ad656bd1-3eb6-48d0-ac77-52f9f9bc9176",
   "metadata": {},
   "outputs": [],
   "source": [
    "messages.append(\n",
    "    {\n",
    "        \"role\": \"user\",\n",
    "        \"content\": \"Tell me everything you know about Coca Cola with a lot of detail.\"\n",
    "    }\n",
    ")"
   ]
  },
  {
   "cell_type": "code",
   "execution_count": 26,
   "id": "09464cdc-ee8e-4057-90cd-8f6169bf678c",
   "metadata": {},
   "outputs": [
    {
     "name": "stdout",
     "output_type": "stream",
     "text": [
      "Got an error from OpenAI API: Error code: 400 - {'error': {'message': 'max_tokens is too large: 5000. This model supports at most 4096 completion tokens, whereas you provided 5000.', 'type': 'invalid_request_error', 'param': 'max_tokens', 'code': None}}\n"
     ]
    }
   ],
   "source": [
    "try:\n",
    "    response = client.chat.completions.create(\n",
    "        messages=messages,\n",
    "        model=\"gpt-3.5-turbo\",\n",
    "        temperature=0.6,\n",
    "        max_tokens=5000\n",
    "    )\n",
    "    print(response.choices[0].message.content)\n",
    "except Exception as e:\n",
    "    print(f'Got an error from OpenAI API: {e}')"
   ]
  },
  {
   "cell_type": "code",
   "execution_count": 27,
   "id": "5b2a7be7-d0f8-4ad4-90d4-208503c60284",
   "metadata": {},
   "outputs": [
    {
     "name": "stdout",
     "output_type": "stream",
     "text": [
      "Coca-Cola is one of the most iconic and recognizable brands in the world, known for its signature red and white logo and refreshing beverages. Here are some key details about Coca-Cola:\n",
      "\n",
      "1. **History**: Coca-Cola was invented in 1886 by pharmacist John Stith Pemberton in Atlanta, Georgia. The drink was originally intended as a patent medicine, claiming to cure various ailments. However, it soon became popular as a refreshing soda beverage.\n",
      "\n",
      "2. **Products**: Coca-Cola offers a wide range of beverages, including the classic Coca-Cola soda, Diet Coke, Coca-Cola Zero Sugar, Sprite, Fanta, and many more. The company also produces various non-carbonated drinks like juices, teas, and bottled water.\n",
      "\n",
      "3. **Global Reach**: Coca-Cola is sold in over 200 countries worldwide, making it one of the most widely distributed products in the world. The brand's marketing campaigns and iconic logo have contributed to its global recognition.\n",
      "\n",
      "4. **Sustainability**: Coca-Cola is committed to sustainability and environmental responsibility. The company has set ambitious goals to reduce its carbon footprint, promote recycling, and conserve water resources.\n",
      "\n",
      "5. **Coca-Cola Museum**: The Coca-Cola Museum, located in Atlanta, Georgia, offers visitors a journey through the history of the\n"
     ]
    }
   ],
   "source": [
    "try:\n",
    "    response = client.chat.completions.create(\n",
    "        messages=messages,\n",
    "        model=\"gpt-3.5-turbo\",\n",
    "        temperature=0.6,\n",
    "        max_tokens=256\n",
    "    )\n",
    "    print(response.choices[0].message.content)\n",
    "except Exception as e:\n",
    "    print(f'Got an error from OpenAI API: {e}')"
   ]
  },
  {
   "cell_type": "code",
   "execution_count": null,
   "id": "df0301e0-9e9c-454d-92eb-edd633bd65f3",
   "metadata": {},
   "outputs": [],
   "source": []
  }
 ],
 "metadata": {
  "kernelspec": {
   "display_name": "Python 3 (ipykernel)",
   "language": "python",
   "name": "python3"
  },
  "language_info": {
   "codemirror_mode": {
    "name": "ipython",
    "version": 3
   },
   "file_extension": ".py",
   "mimetype": "text/x-python",
   "name": "python",
   "nbconvert_exporter": "python",
   "pygments_lexer": "ipython3",
   "version": "3.12.2"
  }
 },
 "nbformat": 4,
 "nbformat_minor": 5
}
