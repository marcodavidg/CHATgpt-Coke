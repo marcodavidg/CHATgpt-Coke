{
 "cells": [
  {
   "cell_type": "markdown",
   "id": "1e283b8b-86aa-410b-a4b1-38c92c09c6c8",
   "metadata": {},
   "source": [
    "# Import libraries"
   ]
  },
  {
   "cell_type": "code",
   "execution_count": 1,
   "id": "57a14068-fcdc-4c16-a90b-6fc2758de463",
   "metadata": {},
   "outputs": [],
   "source": [
    "#!pip install os\n",
    "#!pip install openai"
   ]
  },
  {
   "cell_type": "code",
   "execution_count": 8,
   "id": "c7ba1dda-bfd2-40f4-b68a-1d205fea0ac8",
   "metadata": {},
   "outputs": [],
   "source": [
    "import os\n",
    "from openai import OpenAI"
   ]
  },
  {
   "cell_type": "markdown",
   "id": "9963233f-6c68-4436-92e8-3e635dcd4223",
   "metadata": {},
   "source": [
    "# Add API Key and create client variable"
   ]
  },
  {
   "cell_type": "code",
   "execution_count": null,
   "id": "bfbffeb2-95ce-4e25-ac74-38d720a6a934",
   "metadata": {},
   "outputs": [],
   "source": [
    "os.environ['API_KEY'] = 'INSERT KEY HERE'\n",
    "# os.environ['API_KEY'] = ''\n",
    "\n",
    "client = OpenAI(\n",
    "    # This is the default and can be omitted\n",
    "    api_key=os.getenv('API_KEY'),\n",
    ")\n",
    "\n",
    "print(client.api_key)"
   ]
  },
  {
   "cell_type": "markdown",
   "id": "657a1071-b6a5-4518-bbfe-f540b9f98573",
   "metadata": {},
   "source": [
    "### Get sample responses to check whether it works ok"
   ]
  },
  {
   "cell_type": "code",
   "execution_count": null,
   "id": "e500375d-00c2-4163-b3c1-bf51efc400dd",
   "metadata": {},
   "outputs": [],
   "source": [
    "response = client.chat.completions.create(\n",
    "    max_tokens=50,\n",
    "    messages=[\n",
    "        {\n",
    "            \"role\": \"user\",\n",
    "            \"content\": \"Once upon a time\",\n",
    "        }\n",
    "    ],\n",
    "    model=\"gpt-3.5-turbo\",\n",
    ")"
   ]
  },
  {
   "cell_type": "code",
   "execution_count": 21,
   "id": "7a758483-ae6a-4fc5-8931-79658b480c58",
   "metadata": {},
   "outputs": [
    {
     "name": "stdout",
     "output_type": "stream",
     "text": [
      "ChatCompletion(id='chatcmpl-8z6ny43Fbmo5qJC2PB1a40eTwZUm8', choices=[Choice(finish_reason='length', index=0, logprobs=None, message=ChatCompletionMessage(content=', in a small village nestled between rolling hills and lush forests, there lived a young girl named Alice. Alice was known for her adventurous spirit and her love for exploring the world around her.\\n\\nOne day, as she was wandering through the forest, Alice', role='assistant', function_call=None, tool_calls=None))], created=1709574858, model='gpt-3.5-turbo-0125', object='chat.completion', system_fingerprint='fp_2b778c6b35', usage=CompletionUsage(completion_tokens=50, prompt_tokens=11, total_tokens=61))\n",
      ", in a small village nestled between rolling hills and lush forests, there lived a young girl named Alice. Alice was known for her adventurous spirit and her love for exploring the world around her.\n",
      "\n",
      "One day, as she was wandering through the forest, Alice\n"
     ]
    }
   ],
   "source": [
    "print(response)\n",
    "print(response.choices[0].message.content)"
   ]
  },
  {
   "cell_type": "code",
   "execution_count": 23,
   "id": "99b355eb-1df2-4ab8-adea-bbeac19be7bd",
   "metadata": {},
   "outputs": [],
   "source": [
    "prompt = \"What are your opening hours of the zoo?\""
   ]
  },
  {
   "cell_type": "code",
   "execution_count": 24,
   "id": "3e4f4d85-c106-4f13-81f7-95bffd3c53d4",
   "metadata": {},
   "outputs": [],
   "source": [
    "response = client.chat.completions.create(\n",
    "    max_tokens=50,\n",
    "    messages=[\n",
    "        {\n",
    "            \"role\": \"user\",\n",
    "            \"content\": prompt,\n",
    "        }\n",
    "    ],\n",
    "    model=\"gpt-3.5-turbo\",\n",
    ")"
   ]
  },
  {
   "cell_type": "code",
   "execution_count": 25,
   "id": "a0d4c637-0b88-4063-97f3-ea59488000c0",
   "metadata": {},
   "outputs": [
    {
     "name": "stdout",
     "output_type": "stream",
     "text": [
      "Model: gpt-3.5-turbo-0125\n",
      "Created: 1709575384\n",
      "ID: chatcmpl-8z6wSi8fjfcEADXwGsMRZ5EPYBIvX\n"
     ]
    }
   ],
   "source": [
    "print(f'Model: {response.model}')\n",
    "print(f'Created: {response.created}')\n",
    "print(f'ID: {response.id}')"
   ]
  },
  {
   "cell_type": "code",
   "execution_count": 27,
   "id": "0cd5026a-e398-415a-a60d-8ca8dee39387",
   "metadata": {},
   "outputs": [
    {
     "name": "stdout",
     "output_type": "stream",
     "text": [
      "I'm an AI assistant and do not have the specific information for any particular zoo. Typically, the opening hours for zoos can vary depending on the season and day of the week. It's best to check the official website or contact the zoo directly\n"
     ]
    }
   ],
   "source": [
    "print(response.choices[0].message.content.strip())"
   ]
  },
  {
   "cell_type": "markdown",
   "id": "56004602-0ca9-48b7-a7b3-efe38ba890e6",
   "metadata": {
    "jp-MarkdownHeadingCollapsed": true
   },
   "source": [
    "# Roles\n",
    "There are three important roles.\n",
    "- User. This one is the human user that interacts with the Chatbot.\n",
    "- System. Sets the behavior of the assistant at the beginning. Sets like a brief for the engine.\n",
    "- Assistant. This is the role that replies to the prompts. We can also use it to feed info to itself.\n"
   ]
  },
  {
   "cell_type": "code",
   "execution_count": 42,
   "id": "eaa250b1-e2bd-492b-aa27-6230f45a2d59",
   "metadata": {},
   "outputs": [],
   "source": [
    "messages = [\n",
    "    {\n",
    "        \"role\": \"system\",\n",
    "        \"content\": \"You are a helpful assistant that speaks in Spanish.\"\n",
    "    },\n",
    "    {\n",
    "        \"role\": \"user\",\n",
    "        \"content\": \"Who won the last World Cup in Brazil?\"\n",
    "    },\n",
    "    {\n",
    "        \"role\": \"assistant\",\n",
    "        \"content\": \"You will always start the conversation with a colloquial Spanish greeting.\"\n",
    "    }\n",
    "]"
   ]
  },
  {
   "cell_type": "code",
   "execution_count": 40,
   "id": "af73460d-f893-486d-936e-eb6ff3b5fd5f",
   "metadata": {},
   "outputs": [],
   "source": [
    "response = client.chat.completions.create(\n",
    "    messages=messages,\n",
    "    model=\"gpt-3.5-turbo\",\n",
    ")"
   ]
  },
  {
   "cell_type": "code",
   "execution_count": 41,
   "id": "a115e77d-6fee-4f1a-b540-2f5513b23a84",
   "metadata": {},
   "outputs": [
    {
     "name": "stdout",
     "output_type": "stream",
     "text": [
      "¡Hola! El último ganador de la Copa del Mundo en Brasil fue Alemania en 2014. ¿Hay algo más en lo que pueda ayudarte?\n"
     ]
    }
   ],
   "source": [
    "# print(response)\n",
    "print(response.choices[0].message.content.strip())"
   ]
  },
  {
   "cell_type": "markdown",
   "id": "2cba5916-9c31-4705-bb0c-3d625f698ea4",
   "metadata": {},
   "source": [
    "# Configure assistant for Coca Cola Museum"
   ]
  },
  {
   "cell_type": "code",
   "execution_count": 46,
   "id": "4cd750c6-3abe-4b42-a1dd-e7244c7067af",
   "metadata": {},
   "outputs": [],
   "source": [
    "messages = [\n",
    "    {\n",
    "        \"role\": \"system\",\n",
    "        \"content\": \"You are a helpful assistant for a Coca Cola museum. \\n\"\n",
    "                    \"You have detailed knowledge about the company's history, products, items in the store, entry fee and the opening and closing times of the place. You also have inside knowledge of the museum's service.\"\n",
    "    },\n",
    "    {\n",
    "        \"role\": \"user\",\n",
    "        \"content\": \"How much is one notebook in the souvenir store? And can I go on Sundays at 5am?\"\n",
    "    }\n",
    "]"
   ]
  },
  {
   "cell_type": "code",
   "execution_count": 47,
   "id": "23bfb6af-4e60-4f6c-9e17-43b5cb03b4b0",
   "metadata": {},
   "outputs": [],
   "source": [
    "response = client.chat.completions.create(\n",
    "    messages=messages,\n",
    "    model=\"gpt-3.5-turbo\",\n",
    ")"
   ]
  },
  {
   "cell_type": "code",
   "execution_count": 49,
   "id": "0cc6a9f9-ed8f-486a-8fdf-f44cbc7495a1",
   "metadata": {},
   "outputs": [
    {
     "name": "stdout",
     "output_type": "stream",
     "text": [
      "One notebook in the souvenir store is $10. The Coca Cola museum is not open at 5am on Sundays. The museum opens at 9am and closes at 7pm on Sundays.\n"
     ]
    }
   ],
   "source": [
    "print(response.choices[0].message.content)"
   ]
  },
  {
   "cell_type": "markdown",
   "id": "5ef9aa03-911b-493a-b19a-796cb69c5e9e",
   "metadata": {},
   "source": [
    "### Create context for a fluent conversation"
   ]
  },
  {
   "cell_type": "code",
   "execution_count": 50,
   "id": "824693b1-8a2b-43f9-9288-39716a6d3a6e",
   "metadata": {},
   "outputs": [],
   "source": [
    "messages.append(\n",
    "    {\n",
    "        \"role\": \"assistant\",\n",
    "        \"content\": response.choices[0].message.content\n",
    "    }\n",
    ")"
   ]
  },
  {
   "cell_type": "code",
   "execution_count": 51,
   "id": "f4083046-3c5a-415a-b8d3-1ad56f562983",
   "metadata": {},
   "outputs": [],
   "source": [
    "messages.append(\n",
    "    {\n",
    "        \"role\": \"user\",\n",
    "        \"content\": \"How about on Monday?\"\n",
    "    }\n",
    ")"
   ]
  },
  {
   "cell_type": "code",
   "execution_count": 52,
   "id": "4fe2cce8-3604-40a1-9ef7-034624bd5974",
   "metadata": {},
   "outputs": [],
   "source": [
    "response = client.chat.completions.create(\n",
    "    messages=messages,\n",
    "    model=\"gpt-3.5-turbo\",\n",
    ")"
   ]
  },
  {
   "cell_type": "code",
   "execution_count": 53,
   "id": "16cf3c0e-a411-4fc1-882b-4278ef8cf4f6",
   "metadata": {},
   "outputs": [
    {
     "name": "stdout",
     "output_type": "stream",
     "text": [
      "On Mondays, the Coca Cola museum is open from 9am to 5pm. You can visit the museum during these hours on Mondays.\n"
     ]
    }
   ],
   "source": [
    "print(response.choices[0].message.content)"
   ]
  },
  {
   "cell_type": "markdown",
   "id": "ef958cb2-27ff-4c23-a566-4fd1bba2dc70",
   "metadata": {},
   "source": [
    "### Experiment with temperature\n",
    "This changes the randomness of the output."
   ]
  },
  {
   "cell_type": "code",
   "execution_count": 55,
   "id": "a1fbe0c6-ec7e-494d-b991-6d451ec943ff",
   "metadata": {},
   "outputs": [],
   "source": [
    "# High temperature\n",
    "high_response = client.chat.completions.create(\n",
    "    messages=messages,\n",
    "    model=\"gpt-3.5-turbo\",\n",
    "    temperature=1.6,\n",
    "    max_tokens=100\n",
    ")\n",
    "\n",
    "# Low temperature\n",
    "low_response = client.chat.completions.create(\n",
    "    messages=messages,\n",
    "    model=\"gpt-3.5-turbo\",\n",
    "    temperature=0,\n",
    "    max_tokens=100\n",
    ")"
   ]
  },
  {
   "cell_type": "code",
   "execution_count": 57,
   "id": "0b427224-cdb0-4c18-9735-2923dd69108f",
   "metadata": {},
   "outputs": [
    {
     "name": "stdout",
     "output_type": "stream",
     "text": [
      "High temperature: On Mondays, the Coca Cola museum is open from 10am to 6pm. Each day may have different opening and closing hours, so it's always best to check the specific information for the day you plan to visit.\n",
      "Low temperature: On Mondays, the Coca Cola museum is open from 9am to 5pm. You can visit the museum during these hours.\n"
     ]
    }
   ],
   "source": [
    "print(\"High temperature:\", high_response.choices[0].message.content)\n",
    "print(\"Low temperature:\", low_response.choices[0].message.content)"
   ]
  },
  {
   "cell_type": "code",
   "execution_count": null,
   "id": "ac902de3-9c41-4e33-aeec-d2667b5d5db9",
   "metadata": {},
   "outputs": [],
   "source": []
  }
 ],
 "metadata": {
  "kernelspec": {
   "display_name": "Python 3 (ipykernel)",
   "language": "python",
   "name": "python3"
  },
  "language_info": {
   "codemirror_mode": {
    "name": "ipython",
    "version": 3
   },
   "file_extension": ".py",
   "mimetype": "text/x-python",
   "name": "python",
   "nbconvert_exporter": "python",
   "pygments_lexer": "ipython3",
   "version": "3.12.2"
  }
 },
 "nbformat": 4,
 "nbformat_minor": 5
}
